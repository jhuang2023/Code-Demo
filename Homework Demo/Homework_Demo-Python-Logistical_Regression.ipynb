{
 "cells": [
  {
   "cell_type": "markdown",
   "metadata": {},
   "source": [
    "# CPE 695: Homework 2"
   ]
  },
  {
   "cell_type": "markdown",
   "metadata": {},
   "source": [
    "#### Logistical Regression       "
   ]
  },
  {
   "cell_type": "code",
   "execution_count": 1,
   "metadata": {
    "collapsed": true
   },
   "outputs": [],
   "source": [
    "import pandas as pd\n",
    "import numpy as np"
   ]
  },
  {
   "cell_type": "code",
   "execution_count": 2,
   "metadata": {
    "collapsed": false
   },
   "outputs": [],
   "source": [
    "import matplotlib as plt\n",
    "%matplotlib inline"
   ]
  },
  {
   "cell_type": "code",
   "execution_count": 3,
   "metadata": {
    "collapsed": false
   },
   "outputs": [
    {
     "data": {
      "text/html": [
       "<div>\n",
       "<table border=\"1\" class=\"dataframe\">\n",
       "  <thead>\n",
       "    <tr style=\"text-align: right;\">\n",
       "      <th></th>\n",
       "      <th>score-1</th>\n",
       "      <th>score-2</th>\n",
       "      <th>label</th>\n",
       "    </tr>\n",
       "  </thead>\n",
       "  <tbody>\n",
       "    <tr>\n",
       "      <th>0</th>\n",
       "      <td>34.623660</td>\n",
       "      <td>78.024693</td>\n",
       "      <td>0</td>\n",
       "    </tr>\n",
       "    <tr>\n",
       "      <th>1</th>\n",
       "      <td>30.286711</td>\n",
       "      <td>43.894998</td>\n",
       "      <td>0</td>\n",
       "    </tr>\n",
       "    <tr>\n",
       "      <th>2</th>\n",
       "      <td>35.847409</td>\n",
       "      <td>72.902198</td>\n",
       "      <td>0</td>\n",
       "    </tr>\n",
       "    <tr>\n",
       "      <th>3</th>\n",
       "      <td>60.182599</td>\n",
       "      <td>86.308552</td>\n",
       "      <td>1</td>\n",
       "    </tr>\n",
       "    <tr>\n",
       "      <th>4</th>\n",
       "      <td>79.032736</td>\n",
       "      <td>75.344376</td>\n",
       "      <td>1</td>\n",
       "    </tr>\n",
       "  </tbody>\n",
       "</table>\n",
       "</div>"
      ],
      "text/plain": [
       "     score-1    score-2  label\n",
       "0  34.623660  78.024693      0\n",
       "1  30.286711  43.894998      0\n",
       "2  35.847409  72.902198      0\n",
       "3  60.182599  86.308552      1\n",
       "4  79.032736  75.344376      1"
      ]
     },
     "execution_count": 3,
     "metadata": {},
     "output_type": "execute_result"
    }
   ],
   "source": [
    "#df = pd.read_csv('C://Users//amyhu//Google Drive//CPE 695//week5//data.csv')\n",
    "df = pd.read_csv('C://Users//hp//Google Drive//CPE 695//week5//data.csv')\n",
    "\n",
    "df.head()"
   ]
  },
  {
   "cell_type": "code",
   "execution_count": 4,
   "metadata": {
    "collapsed": false
   },
   "outputs": [
    {
     "data": {
      "image/png": "[encoded data removed]",
      "text/plain": [
       "<matplotlib.figure.Figure at 0x927c748>"
      ]
     },
     "metadata": {},
     "output_type": "display_data"
    }
   ],
   "source": [
    "fig = df.hist(figsize=[5,5])"
   ]
  },
  {
   "cell_type": "code",
   "execution_count": 5,
   "metadata": {
    "collapsed": false
   },
   "outputs": [],
   "source": [
    "#prepare the data\n",
    "N = df.shape\n",
    "xplant = np.array(df.loc[:,'score-1':'score-2'])\n",
    "ones = np.array([1]*N[0])\n",
    "xplant = np.hstack((xplant, np.atleast_2d(ones).T))\n",
    "\n",
    "\n",
    "yplant = np.array(df.loc[:,'label'])"
   ]
  },
  {
   "cell_type": "code",
   "execution_count": 6,
   "metadata": {
    "collapsed": false
   },
   "outputs": [
    {
     "data": {
      "text/plain": [
       "<matplotlib.collections.PathCollection at 0x96f7ef0>"
      ]
     },
     "execution_count": 6,
     "metadata": {},
     "output_type": "execute_result"
    },
    {
     "data": {
      "image/png": "[encoded data removed]",
      "text/plain": [
       "<matplotlib.figure.Figure at 0x95c5c88>"
      ]
     },
     "metadata": {},
     "output_type": "display_data"
    }
   ],
   "source": [
    "#plot the dataset\n",
    "label_1 = xplant[yplant==1]\n",
    "label_0 = xplant[yplant==0]\n",
    "plt.pyplot.scatter(label_1[:,0],label_1[:,1],color='red')\n",
    "plt.pyplot.scatter(label_0[:,0],label_0[:,1],color='blue')"
   ]
  },
  {
   "cell_type": "code",
   "execution_count": 7,
   "metadata": {
    "collapsed": false
   },
   "outputs": [
    {
     "data": {
      "text/plain": [
       "array([ 34.62365962,  78.02469282,   1.        ])"
      ]
     },
     "execution_count": 7,
     "metadata": {},
     "output_type": "execute_result"
    }
   ],
   "source": [
    "xplant[0]"
   ]
  },
  {
   "cell_type": "markdown",
   "metadata": {},
   "source": [
    "#### Method 1: advanced optimization"
   ]
  },
  {
   "cell_type": "code",
   "execution_count": 8,
   "metadata": {
    "collapsed": false
   },
   "outputs": [
    {
     "name": "stdout",
     "output_type": "stream",
     "text": [
      "sig = [ 0.5  0.5  0.5  0.5  0.5  0.5  0.5  0.5  0.5  0.5  0.5  0.5  0.5  0.5  0.5\n",
      "  0.5  0.5  0.5  0.5  0.5  0.5  0.5  0.5  0.5  0.5  0.5  0.5  0.5  0.5  0.5\n",
      "  0.5  0.5  0.5  0.5  0.5  0.5  0.5  0.5  0.5  0.5  0.5  0.5  0.5  0.5  0.5\n",
      "  0.5  0.5  0.5  0.5  0.5  0.5  0.5  0.5  0.5  0.5  0.5  0.5  0.5  0.5  0.5\n",
      "  0.5  0.5  0.5  0.5  0.5  0.5  0.5  0.5  0.5  0.5  0.5  0.5  0.5  0.5  0.5\n",
      "  0.5  0.5  0.5  0.5  0.5  0.5  0.5  0.5  0.5  0.5  0.5  0.5  0.5  0.5  0.5\n",
      "  0.5  0.5  0.5  0.5  0.5  0.5  0.5  0.5  0.5  0.5] 0.69314718056\n",
      "Optimization terminated successfully.\n",
      "         Current function value: 0.203498\n",
      "         Iterations: 203\n",
      "         Function evaluations: 383\n",
      "[  0.20623171   0.2014716  -25.16133336]\n"
     ]
    }
   ],
   "source": [
    "import math as mth\n",
    "import scipy.optimize \n",
    "def sigmoid(w):\n",
    "    return float(1) / (1 + mth.e**(np.dot(-xplant,w)))\n",
    "\n",
    "import scipy.optimize \n",
    "def log_loss(w):\n",
    "    loss = 0.\n",
    "    sigmoid_ = sigmoid(w)\n",
    "    loss += sum(-yplant*np.log(sigmoid_) - (1-yplant)*np.log(1-sigmoid_))\n",
    "    n =len(yplant)    \n",
    "    return loss/n\n",
    "\n",
    "w0 = np.array([0, 0, 0])\n",
    "print('sig =',sigmoid(np.array([0, 0, 0])), log_loss(w0))\n",
    "\n",
    "res = scipy.optimize.minimize(log_loss, w0, method='nelder-mead',options={'xtol': 1e-8, 'disp': True})\n",
    "\n",
    "print(res.x)"
   ]
  },
  {
   "cell_type": "code",
   "execution_count": 19,
   "metadata": {
    "collapsed": false
   },
   "outputs": [
    {
     "data": {
      "text/plain": [
       "<a list of 1 text.Text objects>"
      ]
     },
     "execution_count": 19,
     "metadata": {},
     "output_type": "execute_result"
    },
    {
     "data": {
      "image/png": "[encoded data removed]",
      "text/plain": [
       "<matplotlib.figure.Figure at 0xa1faa58>"
      ]
     },
     "metadata": {},
     "output_type": "display_data"
    }
   ],
   "source": [
    "#plot the data set and the regression\n",
    "label_1 = xplant[yplant==1]\n",
    "label_0 = xplant[yplant==0]\n",
    "plt.pyplot.scatter(label_1[:,0],label_1[:,1],color='red')\n",
    "plt.pyplot.scatter(label_0[:,0],label_0[:,1],color='blue')\n",
    "\n",
    "\n",
    "xlist = np.linspace(30, 100, 100); ylist = np.linspace(30, 100, 100)\n",
    "X, Y = np.meshgrid(xlist, ylist)\n",
    "Z = 1/(1+np.exp(-res.x[2] - res.x[0]*X - res.x[1]*Y))\n",
    "levels=1;ctp = plt.pyplot.contour(X, Y, Z, levels ,colors='g',alpha=0.8)\n",
    "plt.pyplot.clabel(ctp, inline=1)"
   ]
  },
  {
   "cell_type": "markdown",
   "metadata": {},
   "source": [
    "#### Method 2: gradient descent"
   ]
  },
  {
   "cell_type": "code",
   "execution_count": 16,
   "metadata": {
    "collapsed": false
   },
   "outputs": [],
   "source": [
    "xplant_2=np.array(df.loc[:,'score-1':'score-2'])\n",
    "yplant_2=np.array(df.loc[:,'label'])"
   ]
  },
  {
   "cell_type": "code",
   "execution_count": 11,
   "metadata": {
    "collapsed": true
   },
   "outputs": [],
   "source": [
    "import math as mth\n",
    "def sigmoid_2(w,x): \n",
    "    return float(1) / (1 + mth.e**(np.dot(-x,w)))\n",
    "\n",
    "def log_loss_2(x,y,w): # the total logloss\n",
    "    loss = 0.\n",
    "    n =len(y)\n",
    "    for i in range(0,len(x)):\n",
    "        xx = np.insert(x[i],0,1)\n",
    "        yy = y[i]\n",
    "        sigmoid_ = sigmoid_2(w,xx)\n",
    "        loss += -yy*np.log(sigmoid_) - (1-yy)*np.log(1-sigmoid_)\n",
    "    return loss/n\n",
    "\n",
    "\n",
    "def logistic_regression(x,y,nrepeat):\n",
    "    \n",
    "    scale = [max(max(abs(x)), 0.0001) for x in np.transpose(x)]\n",
    "    x = x/scale\n",
    "    scale.insert(0,1.0)\n",
    "    k = len(x[0])\n",
    "    t = 0.02\n",
    "    n = len(x)\n",
    "    iter = 0\n",
    "    w = np.random.uniform(-1,1,k+1)\n",
    "    for j in range(0,nrepeat):\n",
    "        for i in range(0,len(x)):\n",
    "            iter += 1\n",
    "            xx = np.insert(x[i],0,1)\n",
    "            yy = y[i]\n",
    "            tt = t*(n*nrepeat+1-iter)/(n*nrepeat+1)\n",
    "            w = w + tt*(yy - sigmoid_2(w,xx))*xx\n",
    "        if j%(1000) == 1:\n",
    "            print(\" passes = \", j,\" samples seen = \", iter, \" w= \",w/scale,\" loss = \", log_loss_2(x,y,w))\n",
    "    print(\"total passes = \",j,\" total samples seen = \", iter,\" w= \",w/scale,\" loss = \", log_loss_2(x,y,w))\n",
    "\n",
    "    return w/scale "
   ]
  },
  {
   "cell_type": "code",
   "execution_count": 17,
   "metadata": {
    "collapsed": false
   },
   "outputs": [
    {
     "name": "stdout",
     "output_type": "stream",
     "text": [
      " passes =  1  samples seen =  200  w=  [ 0.1628497  -0.00388687  0.01011907]  loss =  0.655477949449\n",
      " passes =  1001  samples seen =  100200  w=  [-14.70325091   0.12254337   0.11710385]  loss =  0.228623774328\n",
      " passes =  2001  samples seen =  200200  w=  [-18.29088539   0.15121165   0.14610119]  loss =  0.212648606435\n",
      " passes =  3001  samples seen =  300200  w=  [-20.24994932   0.16687807   0.16196999]  loss =  0.207806791041\n",
      " passes =  4001  samples seen =  400200  w=  [-21.49615087   0.17684763   0.17206642]  loss =  0.205784909288\n",
      " passes =  5001  samples seen =  500200  w=  [-22.34830617   0.18366697   0.1789675 ]  loss =  0.204804625432\n",
      " passes =  6001  samples seen =  600200  w=  [-22.95683127   0.18853806   0.18389187]  loss =  0.204284772785\n",
      " passes =  7001  samples seen =  700200  w=  [-23.40438118   0.19212158   0.1875099 ]  loss =  0.203991595845\n",
      " passes =  8001  samples seen =  800200  w=  [-23.74076823   0.19481578   0.19022574]  loss =  0.203818453437\n",
      " passes =  9001  samples seen =  900200  w=  [-23.99792074   0.19687598   0.19229852]  loss =  0.203712363204\n",
      " passes =  10001  samples seen =  1000200  w=  [-24.19722153   0.19847322   0.19390181]  loss =  0.203645317061\n",
      " passes =  11001  samples seen =  1100200  w=  [-24.35346709   0.19972587   0.19515568]  loss =  0.203601787782\n",
      " passes =  12001  samples seen =  1200200  w=  [-24.47715861   0.20071794   0.19614538]  loss =  0.20357283386\n",
      " passes =  13001  samples seen =  1300200  w=  [-24.57590086   0.2015103    0.19693264]  loss =  0.203553141938\n",
      " passes =  14001  samples seen =  1400200  w=  [-24.65529269   0.20214774   0.19756289]  loss =  0.203539469198\n",
      " passes =  15001  samples seen =  1500200  w=  [-24.71951337   0.20266372   0.19807007]  loss =  0.203529790016\n",
      " passes =  16001  samples seen =  1600200  w=  [-24.77171912   0.20308349   0.19847978]  loss =  0.203522812769\n",
      " passes =  17001  samples seen =  1700200  w=  [-24.81431742   0.20342631   0.19881159]  loss =  0.203517698486\n",
      " passes =  18001  samples seen =  1800200  w=  [-24.84916028   0.20370702   0.19908051]  loss =  0.203513892977\n",
      " passes =  19001  samples seen =  1900200  w=  [-24.87768256   0.20393708   0.19929822]  loss =  0.203511024514\n",
      " passes =  20001  samples seen =  2000200  w=  [-24.9010022    0.20412542   0.19947379]  loss =  0.203508840259\n",
      " passes =  21001  samples seen =  2100200  w=  [-24.91999373   0.20427903   0.19961436]  loss =  0.203507166094\n",
      " passes =  22001  samples seen =  2200200  w=  [-24.93534259   0.20440336   0.19972552]  loss =  0.203505880827\n",
      " passes =  23001  samples seen =  2300200  w=  [-24.94758549   0.20450265   0.19981167]  loss =  0.203504899424\n",
      " passes =  24001  samples seen =  2400200  w=  [-24.9571406    0.20458016   0.19987631]  loss =  0.203504161965\n",
      " passes =  25001  samples seen =  2500200  w=  [-24.96433007   0.20463832   0.1999222 ]  loss =  0.203503626313\n",
      " passes =  26001  samples seen =  2600200  w=  [-24.96939692   0.20467877   0.19995159]  loss =  0.203503263248\n",
      " passes =  27001  samples seen =  2700200  w=  [-24.9725189    0.20470236   0.19996643]  loss =  0.203503053338\n",
      "total passes =  27999  total samples seen =  2800000  w=  [-24.97384293   0.20470867   0.19996865]  loss =  0.203502986437\n"
     ]
    }
   ],
   "source": [
    "model_plants = logistic_regression(xplant_2, yplant_2, 28000)"
   ]
  },
  {
   "cell_type": "code",
   "execution_count": 20,
   "metadata": {
    "collapsed": false
   },
   "outputs": [
    {
     "data": {
      "text/plain": [
       "array([-24.97384293,   0.20470867,   0.19996865])"
      ]
     },
     "execution_count": 20,
     "metadata": {},
     "output_type": "execute_result"
    }
   ],
   "source": [
    "model_plants"
   ]
  },
  {
   "cell_type": "code",
   "execution_count": 22,
   "metadata": {
    "collapsed": false
   },
   "outputs": [
    {
     "data": {
      "text/plain": [
       "<a list of 1 text.Text objects>"
      ]
     },
     "execution_count": 22,
     "metadata": {},
     "output_type": "execute_result"
    },
    {
     "data": {
      "image/png": "[encoded data removed]",
      "text/plain": [
       "<matplotlib.figure.Figure at 0xa1b3a58>"
      ]
     },
     "metadata": {},
     "output_type": "display_data"
    }
   ],
   "source": [
    "#fig_1=plt.figure()\n",
    "label_1 = xplant[yplant==1]\n",
    "label_0 = xplant[yplant==0]\n",
    "plt.pyplot.scatter(label_1[:,0],label_1[:,1],color='red')\n",
    "plt.pyplot.scatter(label_0[:,0],label_0[:,1],color='blue')\n",
    "\n",
    "\n",
    "xlist = np.linspace(30, 100, 100); ylist = np.linspace(30, 100, 100)\n",
    "X, Y = np.meshgrid(xlist, ylist)\n",
    "Z = 1/(1+np.exp(-model_plants[0] - model_plants[1]*X - model_plants[2]*Y))\n",
    "levels=1;ctp = plt.pyplot.contour(X, Y, Z, levels ,colors='k')\n",
    "plt.pyplot.clabel(ctp, inline=1)"
   ]
  },
  {
   "cell_type": "code",
   "execution_count": null,
   "metadata": {
    "collapsed": true
   },
   "outputs": [],
   "source": []
  }
 ],
 "metadata": {
  "anaconda-cloud": {},
  "kernelspec": {
   "display_name": "Python 3",
   "language": "python",
   "name": "python3"
  },
  "language_info": {
   "codemirror_mode": {
    "name": "ipython",
    "version": 3
   },
   "file_extension": ".py",
   "mimetype": "text/x-python",
   "name": "python",
   "nbconvert_exporter": "python",
   "pygments_lexer": "ipython3",
   "version": "3.6.0"
  }
 },
 "nbformat": 4,
 "nbformat_minor": 1
}
