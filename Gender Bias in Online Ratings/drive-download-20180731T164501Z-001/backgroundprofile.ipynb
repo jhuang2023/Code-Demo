{
 "cells": [
  {
   "cell_type": "markdown",
   "metadata": {},
   "source": [
    "### Observations Profile"
   ]
  },
  {
   "cell_type": "code",
   "execution_count": 3,
   "metadata": {
    "collapsed": true
   },
   "outputs": [],
   "source": [
    "import pandas as pd"
   ]
  },
  {
   "cell_type": "code",
   "execution_count": 4,
   "metadata": {
    "collapsed": true
   },
   "outputs": [],
   "source": [
    "performance = pd.read_csv('Measure_Performance_Rate_20180226.csv')"
   ]
  },
  {
   "cell_type": "code",
   "execution_count": 5,
   "metadata": {
    "collapsed": false
   },
   "outputs": [
    {
     "data": {
      "text/html": [
       "<div>\n",
       "<table border=\"1\" class=\"dataframe\">\n",
       "  <thead>\n",
       "    <tr style=\"text-align: right;\">\n",
       "      <th></th>\n",
       "      <th>NPI</th>\n",
       "      <th>Gender</th>\n",
       "      <th>std</th>\n",
       "      <th>median</th>\n",
       "      <th>mean</th>\n",
       "      <th>href</th>\n",
       "    </tr>\n",
       "  </thead>\n",
       "  <tbody>\n",
       "    <tr>\n",
       "      <th>0</th>\n",
       "      <td>1205831344</td>\n",
       "      <td>M</td>\n",
       "      <td>40.000000</td>\n",
       "      <td>100.0</td>\n",
       "      <td>80.000000</td>\n",
       "      <td>/doctors/Dr_Gary_Rylander</td>\n",
       "    </tr>\n",
       "    <tr>\n",
       "      <th>1</th>\n",
       "      <td>1366412033</td>\n",
       "      <td>F</td>\n",
       "      <td>2.357023</td>\n",
       "      <td>100.0</td>\n",
       "      <td>98.333333</td>\n",
       "      <td>/doctors/Dr_Rebecca_L_Smith</td>\n",
       "    </tr>\n",
       "    <tr>\n",
       "      <th>2</th>\n",
       "      <td>1689629172</td>\n",
       "      <td>F</td>\n",
       "      <td>0.000000</td>\n",
       "      <td>100.0</td>\n",
       "      <td>100.000000</td>\n",
       "      <td>/doctors/Dr_Lynne_Kaplinsky</td>\n",
       "    </tr>\n",
       "    <tr>\n",
       "      <th>3</th>\n",
       "      <td>1356374177</td>\n",
       "      <td>F</td>\n",
       "      <td>0.000000</td>\n",
       "      <td>100.0</td>\n",
       "      <td>100.000000</td>\n",
       "      <td>/doctors/Dr_Margaret_Bertrand</td>\n",
       "    </tr>\n",
       "    <tr>\n",
       "      <th>4</th>\n",
       "      <td>1770507352</td>\n",
       "      <td>F</td>\n",
       "      <td>0.000000</td>\n",
       "      <td>81.0</td>\n",
       "      <td>81.000000</td>\n",
       "      <td>/doctors/Dr_Lynne_Mcelhinney</td>\n",
       "    </tr>\n",
       "  </tbody>\n",
       "</table>\n",
       "</div>"
      ],
      "text/plain": [
       "          NPI Gender        std  median        mean  \\\n",
       "0  1205831344      M  40.000000   100.0   80.000000   \n",
       "1  1366412033      F   2.357023   100.0   98.333333   \n",
       "2  1689629172      F   0.000000   100.0  100.000000   \n",
       "3  1356374177      F   0.000000   100.0  100.000000   \n",
       "4  1770507352      F   0.000000    81.0   81.000000   \n",
       "\n",
       "                            href  \n",
       "0      /doctors/Dr_Gary_Rylander  \n",
       "1    /doctors/Dr_Rebecca_L_Smith  \n",
       "2    /doctors/Dr_Lynne_Kaplinsky  \n",
       "3  /doctors/Dr_Margaret_Bertrand  \n",
       "4   /doctors/Dr_Lynne_Mcelhinney  "
      ]
     },
     "execution_count": 5,
     "metadata": {},
     "output_type": "execute_result"
    }
   ],
   "source": [
    "performance.head()"
   ]
  },
  {
   "cell_type": "code",
   "execution_count": 6,
   "metadata": {
    "collapsed": true
   },
   "outputs": [],
   "source": [
    "doc_list = pd.read_csv(\"doctors_list_t8.csv\")"
   ]
  },
  {
   "cell_type": "code",
   "execution_count": 7,
   "metadata": {
    "collapsed": false
   },
   "outputs": [
    {
     "data": {
      "text/html": [
       "<div>\n",
       "<table border=\"1\" class=\"dataframe\">\n",
       "  <thead>\n",
       "    <tr style=\"text-align: right;\">\n",
       "      <th></th>\n",
       "      <th>Id</th>\n",
       "      <th>initial</th>\n",
       "      <th>href</th>\n",
       "      <th>name</th>\n",
       "      <th>specialties</th>\n",
       "      <th>address</th>\n",
       "      <th>zip</th>\n",
       "    </tr>\n",
       "  </thead>\n",
       "  <tbody>\n",
       "    <tr>\n",
       "      <th>0</th>\n",
       "      <td>3886560</td>\n",
       "      <td>a</td>\n",
       "      <td>/doctors/Dr_Enenge_ABodjedi</td>\n",
       "      <td>Enenge Abodjedi</td>\n",
       "      <td>['Psychiatrist']</td>\n",
       "      <td>Stamford, CT 06902</td>\n",
       "      <td>06902</td>\n",
       "    </tr>\n",
       "    <tr>\n",
       "      <th>1</th>\n",
       "      <td>3886561</td>\n",
       "      <td>a</td>\n",
       "      <td>/doctors/Dr_Brady_AHearn</td>\n",
       "      <td>Brady J A'Hearn</td>\n",
       "      <td>['Pediatrician']</td>\n",
       "      <td>Iowa City, IA 52242</td>\n",
       "      <td>52242</td>\n",
       "    </tr>\n",
       "    <tr>\n",
       "      <th>2</th>\n",
       "      <td>3886562</td>\n",
       "      <td>a</td>\n",
       "      <td>/doctors/Dr_Yousif_Arahim</td>\n",
       "      <td>Yousif A-Rahim</td>\n",
       "      <td>['Gastroenterologist (digestive)', ' Internist']</td>\n",
       "      <td>Aiea, HI 96701</td>\n",
       "      <td>96701</td>\n",
       "    </tr>\n",
       "    <tr>\n",
       "      <th>3</th>\n",
       "      <td>3886563</td>\n",
       "      <td>a</td>\n",
       "      <td>/doctors/Dr_Noor_Al_Khori</td>\n",
       "      <td>Noor Al Khori</td>\n",
       "      <td>['Student']</td>\n",
       "      <td>Grand Rapids, MI 49503</td>\n",
       "      <td>49503</td>\n",
       "    </tr>\n",
       "    <tr>\n",
       "      <th>4</th>\n",
       "      <td>3886564</td>\n",
       "      <td>a</td>\n",
       "      <td>/doctors/Dr_Salam_Al-Hafidh</td>\n",
       "      <td>Salam N Al-Hafidh</td>\n",
       "      <td>['Pediatrician']</td>\n",
       "      <td>Richland Hills, TX 76180</td>\n",
       "      <td>76180</td>\n",
       "    </tr>\n",
       "  </tbody>\n",
       "</table>\n",
       "</div>"
      ],
      "text/plain": [
       "        Id initial                         href               name  \\\n",
       "0  3886560       a  /doctors/Dr_Enenge_ABodjedi    Enenge Abodjedi   \n",
       "1  3886561       a     /doctors/Dr_Brady_AHearn    Brady J A'Hearn   \n",
       "2  3886562       a    /doctors/Dr_Yousif_Arahim     Yousif A-Rahim   \n",
       "3  3886563       a    /doctors/Dr_Noor_Al_Khori      Noor Al Khori   \n",
       "4  3886564       a  /doctors/Dr_Salam_Al-Hafidh  Salam N Al-Hafidh   \n",
       "\n",
       "                                        specialties                   address  \\\n",
       "0                                  ['Psychiatrist']        Stamford, CT 06902   \n",
       "1                                  ['Pediatrician']       Iowa City, IA 52242   \n",
       "2  ['Gastroenterologist (digestive)', ' Internist']            Aiea, HI 96701   \n",
       "3                                       ['Student']    Grand Rapids, MI 49503   \n",
       "4                                  ['Pediatrician']  Richland Hills, TX 76180   \n",
       "\n",
       "     zip  \n",
       "0  06902  \n",
       "1  52242  \n",
       "2  96701  \n",
       "3  49503  \n",
       "4  76180  "
      ]
     },
     "execution_count": 7,
     "metadata": {},
     "output_type": "execute_result"
    }
   ],
   "source": [
    "doc_list.head()"
   ]
  },
  {
   "cell_type": "code",
   "execution_count": 8,
   "metadata": {
    "collapsed": false
   },
   "outputs": [
    {
     "name": "stderr",
     "output_type": "stream",
     "text": [
      "C:\\Users\\amyhu\\Anaconda3\\lib\\site-packages\\IPython\\core\\interactiveshell.py:2717: DtypeWarning: Columns (15,25,26,27,28,29,30,31,32,33,34,36,40) have mixed types. Specify dtype option on import or set low_memory=False.\n",
      "  interactivity=interactivity, compiler=compiler, result=result)\n"
     ]
    }
   ],
   "source": [
    "nation_table = pd.read_csv('Physician_Compare_National_Downloadable_File.csv')"
   ]
  },
  {
   "cell_type": "code",
   "execution_count": 9,
   "metadata": {
    "collapsed": false
   },
   "outputs": [
    {
     "data": {
      "text/html": [
       "<div>\n",
       "<table border=\"1\" class=\"dataframe\">\n",
       "  <thead>\n",
       "    <tr style=\"text-align: right;\">\n",
       "      <th></th>\n",
       "      <th>NPI</th>\n",
       "      <th>PAC ID</th>\n",
       "      <th>Professional Enrollment ID</th>\n",
       "      <th>Last Name</th>\n",
       "      <th>First Name</th>\n",
       "      <th>Middle Name</th>\n",
       "      <th>Suffix</th>\n",
       "      <th>Gender</th>\n",
       "      <th>Credential</th>\n",
       "      <th>Medical school name</th>\n",
       "      <th>...</th>\n",
       "      <th>Hospital affiliation CCN 3</th>\n",
       "      <th>Hospital affiliation LBN 3</th>\n",
       "      <th>Hospital affiliation CCN 4</th>\n",
       "      <th>Hospital affiliation LBN 4</th>\n",
       "      <th>Hospital affiliation CCN 5</th>\n",
       "      <th>Hospital affiliation LBN 5</th>\n",
       "      <th>Professional accepts Medicare Assignment</th>\n",
       "      <th>Reported Quality Measures</th>\n",
       "      <th>Used electronic health records</th>\n",
       "      <th>Committed to heart health through the Million Hearts® initiative.</th>\n",
       "    </tr>\n",
       "  </thead>\n",
       "  <tbody>\n",
       "    <tr>\n",
       "      <th>0</th>\n",
       "      <td>1487927612</td>\n",
       "      <td>4880850486</td>\n",
       "      <td>I20120726000331</td>\n",
       "      <td>HALL</td>\n",
       "      <td>ESTHER</td>\n",
       "      <td>S</td>\n",
       "      <td>NaN</td>\n",
       "      <td>F</td>\n",
       "      <td>NaN</td>\n",
       "      <td>LIFE CHIROPRACTIC COLLEGE - WEST</td>\n",
       "      <td>...</td>\n",
       "      <td>NaN</td>\n",
       "      <td>NaN</td>\n",
       "      <td>NaN</td>\n",
       "      <td>NaN</td>\n",
       "      <td>NaN</td>\n",
       "      <td>NaN</td>\n",
       "      <td>Y</td>\n",
       "      <td>NaN</td>\n",
       "      <td>NaN</td>\n",
       "      <td>NaN</td>\n",
       "    </tr>\n",
       "    <tr>\n",
       "      <th>1</th>\n",
       "      <td>1235146762</td>\n",
       "      <td>2365435336</td>\n",
       "      <td>I20040406000367</td>\n",
       "      <td>WHITE</td>\n",
       "      <td>BARBARA</td>\n",
       "      <td>L</td>\n",
       "      <td>NaN</td>\n",
       "      <td>F</td>\n",
       "      <td>CSW</td>\n",
       "      <td>OTHER</td>\n",
       "      <td>...</td>\n",
       "      <td>NaN</td>\n",
       "      <td>NaN</td>\n",
       "      <td>NaN</td>\n",
       "      <td>NaN</td>\n",
       "      <td>NaN</td>\n",
       "      <td>NaN</td>\n",
       "      <td>Y</td>\n",
       "      <td>NaN</td>\n",
       "      <td>NaN</td>\n",
       "      <td>NaN</td>\n",
       "    </tr>\n",
       "    <tr>\n",
       "      <th>2</th>\n",
       "      <td>1346282258</td>\n",
       "      <td>5395768527</td>\n",
       "      <td>I20060113000139</td>\n",
       "      <td>DAVIDSON</td>\n",
       "      <td>JOHN</td>\n",
       "      <td>A</td>\n",
       "      <td>NaN</td>\n",
       "      <td>M</td>\n",
       "      <td>CSW</td>\n",
       "      <td>OTHER</td>\n",
       "      <td>...</td>\n",
       "      <td>NaN</td>\n",
       "      <td>NaN</td>\n",
       "      <td>NaN</td>\n",
       "      <td>NaN</td>\n",
       "      <td>NaN</td>\n",
       "      <td>NaN</td>\n",
       "      <td>Y</td>\n",
       "      <td>NaN</td>\n",
       "      <td>NaN</td>\n",
       "      <td>NaN</td>\n",
       "    </tr>\n",
       "    <tr>\n",
       "      <th>3</th>\n",
       "      <td>1932283124</td>\n",
       "      <td>5193762862</td>\n",
       "      <td>I20050415000143</td>\n",
       "      <td>CAGEN</td>\n",
       "      <td>STEVEN</td>\n",
       "      <td>F</td>\n",
       "      <td>NaN</td>\n",
       "      <td>M</td>\n",
       "      <td>DC</td>\n",
       "      <td>SHERMAN COLLEGE OF STRAIGHT CHIROPRACTIC</td>\n",
       "      <td>...</td>\n",
       "      <td>NaN</td>\n",
       "      <td>NaN</td>\n",
       "      <td>NaN</td>\n",
       "      <td>NaN</td>\n",
       "      <td>NaN</td>\n",
       "      <td>NaN</td>\n",
       "      <td>Y</td>\n",
       "      <td>NaN</td>\n",
       "      <td>NaN</td>\n",
       "      <td>NaN</td>\n",
       "    </tr>\n",
       "    <tr>\n",
       "      <th>4</th>\n",
       "      <td>1902950462</td>\n",
       "      <td>7416123666</td>\n",
       "      <td>I20120110000522</td>\n",
       "      <td>ESPY</td>\n",
       "      <td>LEISHA</td>\n",
       "      <td>H</td>\n",
       "      <td>NaN</td>\n",
       "      <td>F</td>\n",
       "      <td>NaN</td>\n",
       "      <td>LIFE CHIROPRACTIC COLLEGE</td>\n",
       "      <td>...</td>\n",
       "      <td>NaN</td>\n",
       "      <td>NaN</td>\n",
       "      <td>NaN</td>\n",
       "      <td>NaN</td>\n",
       "      <td>NaN</td>\n",
       "      <td>NaN</td>\n",
       "      <td>M</td>\n",
       "      <td>NaN</td>\n",
       "      <td>NaN</td>\n",
       "      <td>NaN</td>\n",
       "    </tr>\n",
       "  </tbody>\n",
       "</table>\n",
       "<p>5 rows × 41 columns</p>\n",
       "</div>"
      ],
      "text/plain": [
       "          NPI      PAC ID Professional Enrollment ID Last Name First Name  \\\n",
       "0  1487927612  4880850486            I20120726000331      HALL     ESTHER   \n",
       "1  1235146762  2365435336            I20040406000367     WHITE    BARBARA   \n",
       "2  1346282258  5395768527            I20060113000139  DAVIDSON       JOHN   \n",
       "3  1932283124  5193762862            I20050415000143     CAGEN     STEVEN   \n",
       "4  1902950462  7416123666            I20120110000522      ESPY     LEISHA   \n",
       "\n",
       "  Middle Name Suffix Gender Credential  \\\n",
       "0           S    NaN      F        NaN   \n",
       "1           L    NaN      F        CSW   \n",
       "2           A    NaN      M        CSW   \n",
       "3           F    NaN      M         DC   \n",
       "4           H    NaN      F        NaN   \n",
       "\n",
       "                        Medical school name  \\\n",
       "0          LIFE CHIROPRACTIC COLLEGE - WEST   \n",
       "1                                     OTHER   \n",
       "2                                     OTHER   \n",
       "3  SHERMAN COLLEGE OF STRAIGHT CHIROPRACTIC   \n",
       "4                 LIFE CHIROPRACTIC COLLEGE   \n",
       "\n",
       "                                 ...                                  \\\n",
       "0                                ...                                   \n",
       "1                                ...                                   \n",
       "2                                ...                                   \n",
       "3                                ...                                   \n",
       "4                                ...                                   \n",
       "\n",
       "   Hospital affiliation CCN 3 Hospital affiliation LBN 3  \\\n",
       "0                         NaN                        NaN   \n",
       "1                         NaN                        NaN   \n",
       "2                         NaN                        NaN   \n",
       "3                         NaN                        NaN   \n",
       "4                         NaN                        NaN   \n",
       "\n",
       "  Hospital affiliation CCN 4 Hospital affiliation LBN 4  \\\n",
       "0                        NaN                        NaN   \n",
       "1                        NaN                        NaN   \n",
       "2                        NaN                        NaN   \n",
       "3                        NaN                        NaN   \n",
       "4                        NaN                        NaN   \n",
       "\n",
       "  Hospital affiliation CCN 5 Hospital affiliation LBN 5  \\\n",
       "0                        NaN                        NaN   \n",
       "1                        NaN                        NaN   \n",
       "2                        NaN                        NaN   \n",
       "3                        NaN                        NaN   \n",
       "4                        NaN                        NaN   \n",
       "\n",
       "  Professional accepts Medicare Assignment Reported Quality Measures  \\\n",
       "0                                        Y                       NaN   \n",
       "1                                        Y                       NaN   \n",
       "2                                        Y                       NaN   \n",
       "3                                        Y                       NaN   \n",
       "4                                        M                       NaN   \n",
       "\n",
       "   Used electronic health records  \\\n",
       "0                             NaN   \n",
       "1                             NaN   \n",
       "2                             NaN   \n",
       "3                             NaN   \n",
       "4                             NaN   \n",
       "\n",
       "   Committed to heart health through the Million Hearts® initiative.  \n",
       "0                                                NaN                  \n",
       "1                                                NaN                  \n",
       "2                                                NaN                  \n",
       "3                                                NaN                  \n",
       "4                                                NaN                  \n",
       "\n",
       "[5 rows x 41 columns]"
      ]
     },
     "execution_count": 9,
     "metadata": {},
     "output_type": "execute_result"
    }
   ],
   "source": [
    "nation_table.head()"
   ]
  },
  {
   "cell_type": "code",
   "execution_count": 10,
   "metadata": {
    "collapsed": false
   },
   "outputs": [
    {
     "data": {
      "text/plain": [
       "Index(['NPI', 'PAC ID', 'Professional Enrollment ID', 'Last Name',\n",
       "       'First Name', 'Middle Name', 'Suffix', 'Gender', 'Credential',\n",
       "       'Medical school name', 'Graduation year', 'Primary specialty',\n",
       "       'Secondary specialty 1', 'Secondary specialty 2',\n",
       "       'Secondary specialty 3', 'Secondary specialty 4',\n",
       "       'All secondary specialties', 'Organization legal name',\n",
       "       'Group Practice PAC ID', 'Number of Group Practice members',\n",
       "       'Line 1 Street Address', 'Line 2 Street Address',\n",
       "       'Marker of address line 2 suppression', 'City', 'State', 'Zip Code',\n",
       "       'Phone Number', 'Hospital affiliation CCN 1',\n",
       "       'Hospital affiliation LBN 1', 'Hospital affiliation CCN 2',\n",
       "       'Hospital affiliation LBN 2', 'Hospital affiliation CCN 3',\n",
       "       'Hospital affiliation LBN 3', 'Hospital affiliation CCN 4',\n",
       "       'Hospital affiliation LBN 4', 'Hospital affiliation CCN 5',\n",
       "       'Hospital affiliation LBN 5',\n",
       "       'Professional accepts Medicare Assignment', 'Reported Quality Measures',\n",
       "       'Used electronic health records',\n",
       "       'Committed to heart health through the Million Hearts® initiative.'],\n",
       "      dtype='object')"
      ]
     },
     "execution_count": 10,
     "metadata": {},
     "output_type": "execute_result"
    }
   ],
   "source": [
    "nation_table.columns"
   ]
  },
  {
   "cell_type": "markdown",
   "metadata": {},
   "source": [
    "- merge relavent tables"
   ]
  },
  {
   "cell_type": "code",
   "execution_count": 11,
   "metadata": {
    "collapsed": true
   },
   "outputs": [],
   "source": [
    "backg = pd.merge(nation_table, performance, how = 'inner', on = 'NPI')"
   ]
  },
  {
   "cell_type": "code",
   "execution_count": 12,
   "metadata": {
    "collapsed": false
   },
   "outputs": [
    {
     "data": {
      "text/plain": [
       "223963"
      ]
     },
     "execution_count": 12,
     "metadata": {},
     "output_type": "execute_result"
    }
   ],
   "source": [
    "len(backg)"
   ]
  },
  {
   "cell_type": "code",
   "execution_count": 13,
   "metadata": {
    "collapsed": false
   },
   "outputs": [
    {
     "data": {
      "text/plain": [
       "66367"
      ]
     },
     "execution_count": 13,
     "metadata": {},
     "output_type": "execute_result"
    }
   ],
   "source": [
    "len(performance)"
   ]
  },
  {
   "cell_type": "code",
   "execution_count": 14,
   "metadata": {
    "collapsed": true
   },
   "outputs": [],
   "source": [
    "backg =  backg.drop_duplicates(subset='NPI', keep='last')"
   ]
  },
  {
   "cell_type": "code",
   "execution_count": 15,
   "metadata": {
    "collapsed": false
   },
   "outputs": [
    {
     "data": {
      "text/plain": [
       "Index(['NPI', 'PAC ID', 'Professional Enrollment ID', 'Last Name',\n",
       "       'First Name', 'Middle Name', 'Suffix', 'Gender_x', 'Credential',\n",
       "       'Medical school name', 'Graduation year', 'Primary specialty',\n",
       "       'Secondary specialty 1', 'Secondary specialty 2',\n",
       "       'Secondary specialty 3', 'Secondary specialty 4',\n",
       "       'All secondary specialties', 'Organization legal name',\n",
       "       'Group Practice PAC ID', 'Number of Group Practice members',\n",
       "       'Line 1 Street Address', 'Line 2 Street Address',\n",
       "       'Marker of address line 2 suppression', 'City', 'State', 'Zip Code',\n",
       "       'Phone Number', 'Hospital affiliation CCN 1',\n",
       "       'Hospital affiliation LBN 1', 'Hospital affiliation CCN 2',\n",
       "       'Hospital affiliation LBN 2', 'Hospital affiliation CCN 3',\n",
       "       'Hospital affiliation LBN 3', 'Hospital affiliation CCN 4',\n",
       "       'Hospital affiliation LBN 4', 'Hospital affiliation CCN 5',\n",
       "       'Hospital affiliation LBN 5',\n",
       "       'Professional accepts Medicare Assignment', 'Reported Quality Measures',\n",
       "       'Used electronic health records',\n",
       "       'Committed to heart health through the Million Hearts® initiative.',\n",
       "       'Gender_y', 'std', 'median', 'mean', 'href'],\n",
       "      dtype='object')"
      ]
     },
     "execution_count": 15,
     "metadata": {},
     "output_type": "execute_result"
    }
   ],
   "source": [
    "backg.columns"
   ]
  },
  {
   "cell_type": "code",
   "execution_count": 16,
   "metadata": {
    "collapsed": false
   },
   "outputs": [],
   "source": [
    "# select target columns\n",
    "backg_1 = backg.loc[:,['NPI','Gender_x','Primary specialty','State','href','Graduation year']]"
   ]
  },
  {
   "cell_type": "code",
   "execution_count": 17,
   "metadata": {
    "collapsed": false
   },
   "outputs": [],
   "source": [
    "backg_1.loc[:,'Graduation year']  = 2018 - backg_1.loc[:,'Graduation year'] "
   ]
  },
  {
   "cell_type": "code",
   "execution_count": 18,
   "metadata": {
    "collapsed": false
   },
   "outputs": [
    {
     "data": {
      "text/html": [
       "<div>\n",
       "<table border=\"1\" class=\"dataframe\">\n",
       "  <thead>\n",
       "    <tr style=\"text-align: right;\">\n",
       "      <th></th>\n",
       "      <th>NPI</th>\n",
       "      <th>Gender_x</th>\n",
       "      <th>Primary specialty</th>\n",
       "      <th>State</th>\n",
       "      <th>href</th>\n",
       "      <th>Graduation year</th>\n",
       "    </tr>\n",
       "  </thead>\n",
       "  <tbody>\n",
       "    <tr>\n",
       "      <th>1</th>\n",
       "      <td>1205831344</td>\n",
       "      <td>M</td>\n",
       "      <td>OPHTHALMOLOGY</td>\n",
       "      <td>TX</td>\n",
       "      <td>/doctors/Dr_Gary_Rylander</td>\n",
       "      <td>41.0</td>\n",
       "    </tr>\n",
       "    <tr>\n",
       "      <th>3</th>\n",
       "      <td>1366412033</td>\n",
       "      <td>F</td>\n",
       "      <td>DERMATOLOGY</td>\n",
       "      <td>SC</td>\n",
       "      <td>/doctors/Dr_Rebecca_L_Smith</td>\n",
       "      <td>28.0</td>\n",
       "    </tr>\n",
       "    <tr>\n",
       "      <th>4</th>\n",
       "      <td>1689629172</td>\n",
       "      <td>F</td>\n",
       "      <td>OPHTHALMOLOGY</td>\n",
       "      <td>ME</td>\n",
       "      <td>/doctors/Dr_Lynne_Kaplinsky</td>\n",
       "      <td>26.0</td>\n",
       "    </tr>\n",
       "    <tr>\n",
       "      <th>6</th>\n",
       "      <td>1356374177</td>\n",
       "      <td>F</td>\n",
       "      <td>DIAGNOSTIC RADIOLOGY</td>\n",
       "      <td>NC</td>\n",
       "      <td>/doctors/Dr_Margaret_Bertrand</td>\n",
       "      <td>44.0</td>\n",
       "    </tr>\n",
       "    <tr>\n",
       "      <th>8</th>\n",
       "      <td>1770507352</td>\n",
       "      <td>F</td>\n",
       "      <td>OPHTHALMOLOGY</td>\n",
       "      <td>MO</td>\n",
       "      <td>/doctors/Dr_Lynne_Mcelhinney</td>\n",
       "      <td>23.0</td>\n",
       "    </tr>\n",
       "  </tbody>\n",
       "</table>\n",
       "</div>"
      ],
      "text/plain": [
       "          NPI Gender_x     Primary specialty State  \\\n",
       "1  1205831344        M         OPHTHALMOLOGY    TX   \n",
       "3  1366412033        F           DERMATOLOGY    SC   \n",
       "4  1689629172        F         OPHTHALMOLOGY    ME   \n",
       "6  1356374177        F  DIAGNOSTIC RADIOLOGY    NC   \n",
       "8  1770507352        F         OPHTHALMOLOGY    MO   \n",
       "\n",
       "                            href  Graduation year  \n",
       "1      /doctors/Dr_Gary_Rylander             41.0  \n",
       "3    /doctors/Dr_Rebecca_L_Smith             28.0  \n",
       "4    /doctors/Dr_Lynne_Kaplinsky             26.0  \n",
       "6  /doctors/Dr_Margaret_Bertrand             44.0  \n",
       "8   /doctors/Dr_Lynne_Mcelhinney             23.0  "
      ]
     },
     "execution_count": 18,
     "metadata": {},
     "output_type": "execute_result"
    }
   ],
   "source": [
    "backg_1.head()"
   ]
  },
  {
   "cell_type": "code",
   "execution_count": 19,
   "metadata": {
    "collapsed": true
   },
   "outputs": [],
   "source": [
    "import matplotlib.pyplot as plt"
   ]
  },
  {
   "cell_type": "code",
   "execution_count": 20,
   "metadata": {
    "collapsed": false
   },
   "outputs": [
    {
     "data": {
      "image/png": "[encoded data removed]",
      "text/plain": [
       "<matplotlib.figure.Figure at 0x1881a5e58d0>"
      ]
     },
     "metadata": {},
     "output_type": "display_data"
    }
   ],
   "source": [
    "#pie chart of gender\n",
    "backg_1.loc[:,'Gender_x'].value_counts().plot(kind='pie',autopct='%.2f')\n",
    "plt.show()"
   ]
  },
  {
   "cell_type": "code",
   "execution_count": 21,
   "metadata": {
    "collapsed": false
   },
   "outputs": [
    {
     "data": {
      "text/plain": [
       "72"
      ]
     },
     "execution_count": 21,
     "metadata": {},
     "output_type": "execute_result"
    }
   ],
   "source": [
    "#count the number of specialities\n",
    "len(backg_1.loc[:,'Primary specialty'].value_counts())"
   ]
  },
  {
   "cell_type": "code",
   "execution_count": 22,
   "metadata": {
    "collapsed": false
   },
   "outputs": [
    {
     "data": {
      "text/plain": [
       "ANESTHESIOLOGY                                      9738\n",
       "DIAGNOSTIC RADIOLOGY                                8116\n",
       "INTERNAL MEDICINE                                   7455\n",
       "FAMILY PRACTICE                                     6263\n",
       "OPHTHALMOLOGY                                       4523\n",
       "EMERGENCY MEDICINE                                  2424\n",
       "DERMATOLOGY                                         2382\n",
       "GASTROENTEROLOGY                                    2328\n",
       "ORTHOPEDIC SURGERY                                  2299\n",
       "CARDIOVASCULAR DISEASE (CARDIOLOGY)                 2276\n",
       "GENERAL SURGERY                                     1624\n",
       "OBSTETRICS/GYNECOLOGY                               1455\n",
       "UROLOGY                                             1381\n",
       "NEUROLOGY                                            981\n",
       "CLINICAL PSYCHOLOGIST                                976\n",
       "PULMONARY DISEASE                                    973\n",
       "OTOLARYNGOLOGY                                       866\n",
       "NEPHROLOGY                                           796\n",
       "PHYSICAL MEDICINE AND REHABILITATION                 641\n",
       "PSYCHIATRY                                           639\n",
       "HEMATOLOGY/ONCOLOGY                                  580\n",
       "NEUROSURGERY                                         519\n",
       "HOSPITALIST                                          494\n",
       "INTERVENTIONAL CARDIOLOGY                            456\n",
       "ENDOCRINOLOGY                                        450\n",
       "PATHOLOGY                                            433\n",
       "VASCULAR SURGERY                                     425\n",
       "RHEUMATOLOGY                                         400\n",
       "ALLERGY/IMMUNOLOGY                                   355\n",
       "INTERVENTIONAL RADIOLOGY                             326\n",
       "                                                    ... \n",
       "COLORECTAL SURGERY (PROCTOLOGY)                      153\n",
       "SPORTS MEDICINE                                       93\n",
       "GERIATRIC MEDICINE                                    79\n",
       "GYNECOLOGICAL ONCOLOGY                                76\n",
       "PEDIATRIC MEDICINE                                    75\n",
       "NUCLEAR MEDICINE                                      68\n",
       "SURGICAL ONCOLOGY                                     55\n",
       "OSTEOPATHIC MANIPULATIVE MEDICINE                     51\n",
       "HEMATOLOGY                                            43\n",
       "PHYSICAL THERAPY                                      39\n",
       "HOSPICE/PALLIATIVE CARE                               33\n",
       "SLEEP MEDICINE                                        27\n",
       "OPTOMETRY                                             19\n",
       "PODIATRY                                              15\n",
       "ADVANCED HEART FAILURE AND TRANSPLANT CARDIOLOGY      13\n",
       "CERTIFIED REGISTERED NURSE ANESTHETIST                12\n",
       "NURSE PRACTITIONER                                    12\n",
       "PHYSICIAN ASSISTANT                                   11\n",
       "UNDEFINED PHYSICIAN TYPE (SPECIFY)                    11\n",
       "PREVENTATIVE MEDICINE                                 10\n",
       "CHIROPRACTIC                                           9\n",
       "NEUROPSYCHIATRY                                        7\n",
       "PERIPHERAL VASCULAR DISEASE                            7\n",
       "ADDICTION MEDICINE                                     7\n",
       "GERIATRIC PSYCHIATRY                                   6\n",
       "MAXILLOFACIAL SURGERY                                  3\n",
       "ANESTHESIOLOGY ASSISTANT                               1\n",
       "ORAL SURGERY                                           1\n",
       "AUDIOLOGIST                                            1\n",
       "CERTIFIED NURSE MIDWIFE                                1\n",
       "Name: Primary specialty, dtype: int64"
      ]
     },
     "execution_count": 22,
     "metadata": {},
     "output_type": "execute_result"
    }
   ],
   "source": [
    "backg_1.loc[:,'Primary specialty'].value_counts()"
   ]
  },
  {
   "cell_type": "code",
   "execution_count": 23,
   "metadata": {
    "collapsed": false,
    "scrolled": true
   },
   "outputs": [
    {
     "data": {
      "image/png": "[encoded data removed]",
      "text/plain": [
       "<matplotlib.figure.Figure at 0x1881b25ea20>"
      ]
     },
     "metadata": {},
     "output_type": "display_data"
    }
   ],
   "source": [
    "# bar chart of specialties\n",
    "plt.figure(figsize=(20,15))\n",
    "backg_1.loc[:,'Primary specialty'].value_counts().plot(kind='bar')\n",
    "plt.show()"
   ]
  },
  {
   "cell_type": "code",
   "execution_count": 24,
   "metadata": {
    "collapsed": false
   },
   "outputs": [
    {
     "data": {
      "image/png": "[encoded data removed]",
      "text/plain": [
       "<matplotlib.figure.Figure at 0x1881b322dd8>"
      ]
     },
     "metadata": {},
     "output_type": "display_data"
    }
   ],
   "source": [
    "# bar chart of geology\n",
    "plt.figure(figsize=(20,15))\n",
    "backg_1.loc[:,'State'].value_counts().plot(kind='bar')\n",
    "plt.show()"
   ]
  },
  {
   "cell_type": "code",
   "execution_count": 25,
   "metadata": {
    "collapsed": false
   },
   "outputs": [],
   "source": [
    "liststate = list(backg_1.loc[:,'State'].value_counts())"
   ]
  },
  {
   "cell_type": "code",
   "execution_count": 26,
   "metadata": {
    "collapsed": false
   },
   "outputs": [
    {
     "data": {
      "text/plain": [
       "53"
      ]
     },
     "execution_count": 26,
     "metadata": {},
     "output_type": "execute_result"
    }
   ],
   "source": [
    "# count the number of state\n",
    "len(liststate)"
   ]
  },
  {
   "cell_type": "code",
   "execution_count": 28,
   "metadata": {
    "collapsed": false
   },
   "outputs": [
    {
     "data": {
      "text/plain": [
       "CA    5485\n",
       "TX    5149\n",
       "FL    5033\n",
       "NY    4663\n",
       "OH    3204\n",
       "PA    3022\n",
       "MI    2640\n",
       "NC    2510\n",
       "IL    2327\n",
       "GA    2113\n",
       "NJ    1983\n",
       "VA    1736\n",
       "IN    1722\n",
       "WI    1673\n",
       "WA    1613\n",
       "TN    1473\n",
       "MA    1455\n",
       "AZ    1408\n",
       "MO    1255\n",
       "LA    1242\n",
       "MD    1152\n",
       "SC    1133\n",
       "AL    1126\n",
       "KY    1032\n",
       "OR    1005\n",
       "CT    1005\n",
       "CO     928\n",
       "OK     788\n",
       "NV     639\n",
       "WV     529\n",
       "MN     514\n",
       "MS     495\n",
       "AR     494\n",
       "IA     423\n",
       "KS     379\n",
       "NE     365\n",
       "HI     327\n",
       "UT     316\n",
       "NM     264\n",
       "ID     255\n",
       "NH     243\n",
       "MT     216\n",
       "DE     161\n",
       "RI     156\n",
       "ME     153\n",
       "SD     152\n",
       "DC      98\n",
       "AK      89\n",
       "WY      88\n",
       "VT      87\n",
       "ND      42\n",
       "GU       4\n",
       "VI       3\n",
       "Name: State, dtype: int64"
      ]
     },
     "execution_count": 28,
     "metadata": {},
     "output_type": "execute_result"
    }
   ],
   "source": [
    "backg_1.loc[:,'State'].value_counts()"
   ]
  },
  {
   "cell_type": "code",
   "execution_count": 29,
   "metadata": {
    "collapsed": false
   },
   "outputs": [
    {
     "data": {
      "image/png": "[encoded data removed]",
      "text/plain": [
       "<matplotlib.figure.Figure at 0x1881b584898>"
      ]
     },
     "metadata": {},
     "output_type": "display_data"
    }
   ],
   "source": [
    "# bar chart of work experience year \n",
    "plt.figure(figsize=(20,15))\n",
    "backg_1.loc[:,'Graduation year'].plot(kind='hist',bins=30)\n",
    "plt.show()"
   ]
  },
  {
   "cell_type": "code",
   "execution_count": null,
   "metadata": {
    "collapsed": true
   },
   "outputs": [],
   "source": []
  }
 ],
 "metadata": {
  "kernelspec": {
   "display_name": "Python 3",
   "language": "python",
   "name": "python3"
  },
  "language_info": {
   "codemirror_mode": {
    "name": "ipython",
    "version": 3
   },
   "file_extension": ".py",
   "mimetype": "text/x-python",
   "name": "python",
   "nbconvert_exporter": "python",
   "pygments_lexer": "ipython3",
   "version": "3.6.0"
  }
 },
 "nbformat": 4,
 "nbformat_minor": 2
}
