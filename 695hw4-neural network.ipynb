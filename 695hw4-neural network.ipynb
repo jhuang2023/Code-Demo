{
 "cells": [
  {
   "cell_type": "code",
   "execution_count": 81,
   "metadata": {
    "collapsed": true
   },
   "outputs": [],
   "source": [
    "import numpy as np\n",
    "import pandas as pd\n",
    "import matplotlib.pyplot as plt\n",
    "from sklearn.neural_network import MLPClassifier\n",
    "from sklearn.neural_network import MLPRegressor"
   ]
  },
  {
   "cell_type": "code",
   "execution_count": 82,
   "metadata": {
    "collapsed": false
   },
   "outputs": [],
   "source": [
    "x=np.matrix([[1,0,0,0,0,0,0,0],\n",
    "             [0,1,0,0,0,0,0,0],\n",
    "             [0,0,1,0,0,0,0,0],\n",
    "             [0,0,0,1,0,0,0,0],\n",
    "             [0,0,0,0,1,0,0,0],\n",
    "             [0,0,0,0,0,1,0,0],\n",
    "             [0,0,0,0,0,0,1,0],\n",
    "             [0,0,0,0,0,0,0,1]])\n",
    "y=np.matrix([[1,0,0,0,0,0,0,0],\n",
    "             [0,1,0,0,0,0,0,0],\n",
    "             [0,0,1,0,0,0,0,0],\n",
    "             [0,0,0,1,0,0,0,0],\n",
    "             [0,0,0,0,1,0,0,0],\n",
    "             [0,0,0,0,0,1,0,0],\n",
    "             [0,0,0,0,0,0,1,0],\n",
    "             [0,0,0,0,0,0,0,1]])"
   ]
  },
  {
   "cell_type": "code",
   "execution_count": 83,
   "metadata": {
    "collapsed": false
   },
   "outputs": [
    {
     "data": {
      "text/plain": [
       "MLPClassifier(activation='logistic', alpha=0.0001, batch_size='auto',\n",
       "       beta_1=0.9, beta_2=0.999, early_stopping=False, epsilon=1e-08,\n",
       "       hidden_layer_sizes=(3,), learning_rate='constant',\n",
       "       learning_rate_init=0.001, max_iter=500, momentum=0.9,\n",
       "       nesterovs_momentum=True, power_t=0.5, random_state=None,\n",
       "       shuffle=True, solver='lbfgs', tol=0.0001, validation_fraction=0.1,\n",
       "       verbose=False, warm_start=False)"
      ]
     },
     "execution_count": 83,
     "metadata": {},
     "output_type": "execute_result"
    }
   ],
   "source": [
    "clf_1=MLPClassifier(hidden_layer_sizes=(3, ), activation='logistic', solver='lbfgs', alpha=0.0001, \n",
    "                  learning_rate='constant', learning_rate_init=0.001,max_iter=500, random_state=None, \n",
    "                  tol=0.0001, verbose=False, warm_start=False, early_stopping=False)\n",
    "clf_1.fit(x,y)\n"
   ]
  },
  {
   "cell_type": "code",
   "execution_count": 84,
   "metadata": {
    "collapsed": false
   },
   "outputs": [
    {
     "data": {
      "text/plain": [
       "MLPRegressor(activation='logistic', alpha=0.0001, batch_size='auto',\n",
       "       beta_1=0.9, beta_2=0.999, early_stopping=False, epsilon=1e-08,\n",
       "       hidden_layer_sizes=(3,), learning_rate='constant',\n",
       "       learning_rate_init=0.001, max_iter=500, momentum=0.9,\n",
       "       nesterovs_momentum=True, power_t=0.5, random_state=None,\n",
       "       shuffle=True, solver='lbfgs', tol=0.0001, validation_fraction=0.1,\n",
       "       verbose=False, warm_start=False)"
      ]
     },
     "execution_count": 84,
     "metadata": {},
     "output_type": "execute_result"
    }
   ],
   "source": [
    "clf_2=MLPRegressor(hidden_layer_sizes=(3, ), activation='logistic', solver='lbfgs', alpha=0.0001, \n",
    "                  learning_rate='constant', learning_rate_init=0.001,max_iter=500, random_state=None, \n",
    "                  tol=0.0001, verbose=False, warm_start=False, early_stopping=False)\n",
    "clf_2.fit(x,y)"
   ]
  },
  {
   "cell_type": "markdown",
   "metadata": {
    "collapsed": true
   },
   "source": [
    "- weights martix for MLPClassifier"
   ]
  },
  {
   "cell_type": "code",
   "execution_count": 85,
   "metadata": {
    "collapsed": false
   },
   "outputs": [
    {
     "data": {
      "text/plain": [
       "[array([[-5.44005709,  4.14206185,  0.24923039],\n",
       "        [-3.81244019, -4.18110272,  4.30556182],\n",
       "        [ 4.59063055, -4.22755206,  3.58402611],\n",
       "        [ 0.21156246,  3.94580187,  5.54402997],\n",
       "        [-0.27881331,  4.49701642, -5.34726759],\n",
       "        [ 3.80351479, -3.92875541, -4.41018654],\n",
       "        [-4.5108704 , -4.03641948, -3.4848093 ],\n",
       "        [ 5.32716547,  3.89366739, -0.18790292]]),\n",
       " array([[-21.98339915, -12.62423084,  13.20704364,   2.39758079,\n",
       "          -2.15154675,  12.64921446, -13.45033331,  23.29347931],\n",
       "        [ 13.40765833,  -7.99985127,  -8.43090517,  12.78623998,\n",
       "          12.88404112,  -8.05057   ,  -7.93745014,  13.10111018],\n",
       "        [  2.74057405,  13.40154811,  12.62211689,  22.95137536,\n",
       "         -21.93832773, -13.32360148, -12.86888896,  -2.53387193]])]"
      ]
     },
     "execution_count": 85,
     "metadata": {},
     "output_type": "execute_result"
    }
   ],
   "source": [
    "A1=clf_1.coefs_\n",
    "#The ith element in the list represents the weight matrix corresponding to layer i.\n",
    "A1\n",
    "#First array is the weights matrix for input layer. The second one is for output layer"
   ]
  },
  {
   "cell_type": "code",
   "execution_count": 86,
   "metadata": {
    "collapsed": false
   },
   "outputs": [
    {
     "data": {
      "text/plain": [
       "[array([ 0.08572485, -0.20709191,  0.0158164 ]),\n",
       " array([ -9.37351594,  -6.93678969, -19.49211871, -31.6108355 ,\n",
       "         -6.40546632,  -6.32370838,   6.46234223, -29.67947657])]"
      ]
     },
     "execution_count": 86,
     "metadata": {},
     "output_type": "execute_result"
    }
   ],
   "source": [
    "B1=clf_1.intercepts_\n",
    "#The ith element in the list represents the bias vector corresponding to layer i + 1\n",
    "B1"
   ]
  },
  {
   "cell_type": "code",
   "execution_count": 87,
   "metadata": {
    "collapsed": false
   },
   "outputs": [
    {
     "data": {
      "text/plain": [
       "3"
      ]
     },
     "execution_count": 87,
     "metadata": {},
     "output_type": "execute_result"
    }
   ],
   "source": [
    "layers_1=clf_1.n_layers_\n",
    "layers_1"
   ]
  },
  {
   "cell_type": "markdown",
   "metadata": {},
   "source": [
    "- weights martix for MLPRegressor"
   ]
  },
  {
   "cell_type": "code",
   "execution_count": 88,
   "metadata": {
    "collapsed": false
   },
   "outputs": [
    {
     "data": {
      "text/plain": [
       "[array([[-0.79944844, -0.44993017, -1.32777991],\n",
       "        [ 0.11062589, -0.75476778, -0.23543917],\n",
       "        [-0.93736029,  0.59837197,  0.3195674 ],\n",
       "        [ 0.45841389,  1.23035984, -0.94231084],\n",
       "        [-0.21839098, -0.70310822,  1.00784268],\n",
       "        [-0.17240295,  0.27714163,  0.51220586],\n",
       "        [ 1.16300826,  1.73183439,  0.56345436],\n",
       "        [ 0.97311987, -0.99045206,  0.18347367]]),\n",
       " array([[-0.71037191,  0.22395458, -1.23045272,  0.46812281, -0.40221761,\n",
       "         -0.40406417,  0.91439507,  1.13942649],\n",
       "        [-0.298501  , -0.69517714,  0.63874343,  0.7404491 , -0.54706811,\n",
       "          0.30006528,  0.88227071, -1.02522878],\n",
       "        [-1.22342733, -0.42890661,  0.50115283, -1.127878  ,  1.24536637,\n",
       "          0.61696273,  0.48617761, -0.07304925]])]"
      ]
     },
     "execution_count": 88,
     "metadata": {},
     "output_type": "execute_result"
    }
   ],
   "source": [
    "A2=clf_2.coefs_\n",
    "#The ith element in the list represents the weight matrix corresponding to layer i.\n",
    "A2\n",
    "#First array is the weights matrix for input layer. The second one is for output layer"
   ]
  },
  {
   "cell_type": "code",
   "execution_count": 89,
   "metadata": {
    "collapsed": false
   },
   "outputs": [
    {
     "data": {
      "text/plain": [
       "[array([-0.04888473,  0.57894311, -0.55106866]),\n",
       " array([ 1.14521486,  0.61991606,  0.14581767, -0.14721995,  0.1956552 ,\n",
       "        -0.10014392, -1.08522814,  0.23093641])]"
      ]
     },
     "execution_count": 89,
     "metadata": {},
     "output_type": "execute_result"
    }
   ],
   "source": [
    "B2=clf_2.intercepts_\n",
    "#The ith element in the list represents the bias vector corresponding to layer i + 1\n",
    "B2"
   ]
  },
  {
   "cell_type": "code",
   "execution_count": 90,
   "metadata": {
    "collapsed": false
   },
   "outputs": [
    {
     "data": {
      "text/plain": [
       "3"
      ]
     },
     "execution_count": 90,
     "metadata": {},
     "output_type": "execute_result"
    }
   ],
   "source": [
    "layers_2=clf_2.n_layers_\n",
    "layers_2"
   ]
  },
  {
   "cell_type": "code",
   "execution_count": 91,
   "metadata": {
    "collapsed": true
   },
   "outputs": [],
   "source": [
    "from matplotlib import pyplot\n",
    "from math import cos, sin, atan\n",
    "\n",
    "\n",
    "class Neuron():\n",
    "    def __init__(self, x, y):\n",
    "        self.x = x\n",
    "        self.y = y\n",
    "\n",
    "    def draw(self, neuron_radius):\n",
    "        circle = pyplot.Circle((self.x, self.y), radius=neuron_radius, fill=False)\n",
    "        pyplot.gca().add_patch(circle)\n",
    "\n",
    "\n",
    "class Layer():\n",
    "    def __init__(self, network, number_of_neurons, number_of_neurons_in_widest_layer):\n",
    "        self.vertical_distance_between_layers = 6\n",
    "        self.horizontal_distance_between_neurons = 2\n",
    "        self.neuron_radius = 0.5\n",
    "        self.number_of_neurons_in_widest_layer = number_of_neurons_in_widest_layer\n",
    "        self.previous_layer = self.__get_previous_layer(network)\n",
    "        self.y = self.__calculate_layer_y_position()\n",
    "        self.neurons = self.__intialise_neurons(number_of_neurons)\n",
    "\n",
    "    def __intialise_neurons(self, number_of_neurons):\n",
    "        neurons = []\n",
    "        x = self.__calculate_left_margin_so_layer_is_centered(number_of_neurons)\n",
    "        for iteration in range(number_of_neurons):\n",
    "            neuron = Neuron(x, self.y)\n",
    "            neurons.append(neuron)\n",
    "            x += self.horizontal_distance_between_neurons\n",
    "        return neurons\n",
    "\n",
    "    def __calculate_left_margin_so_layer_is_centered(self, number_of_neurons):\n",
    "        return self.horizontal_distance_between_neurons * (self.number_of_neurons_in_widest_layer - number_of_neurons) / 2\n",
    "\n",
    "    def __calculate_layer_y_position(self):\n",
    "        if self.previous_layer:\n",
    "            return self.previous_layer.y + self.vertical_distance_between_layers\n",
    "        else:\n",
    "            return 0\n",
    "\n",
    "    def __get_previous_layer(self, network):\n",
    "        if len(network.layers) > 0:\n",
    "            return network.layers[-1]\n",
    "        else:\n",
    "            return None\n",
    "\n",
    "    def __line_between_two_neurons(self, neuron1, neuron2):\n",
    "        angle = atan((neuron2.x - neuron1.x) / float(neuron2.y - neuron1.y))\n",
    "        x_adjustment = self.neuron_radius * sin(angle)\n",
    "        y_adjustment = self.neuron_radius * cos(angle)\n",
    "        line = pyplot.Line2D((neuron1.x - x_adjustment, neuron2.x + x_adjustment), (neuron1.y - y_adjustment, neuron2.y + y_adjustment))\n",
    "        pyplot.gca().add_line(line)\n",
    "\n",
    "    def draw(self, layerType=0):\n",
    "        for neuron in self.neurons:\n",
    "            neuron.draw( self.neuron_radius )\n",
    "            if self.previous_layer:\n",
    "                for previous_layer_neuron in self.previous_layer.neurons:\n",
    "                    self.__line_between_two_neurons(neuron, previous_layer_neuron)\n",
    "        # write Text\n",
    "        x_text = self.number_of_neurons_in_widest_layer * self.horizontal_distance_between_neurons\n",
    "        if layerType == 0:\n",
    "            pyplot.text(x_text, self.y, 'Onput Layer(each node from hidden layer has 8 weights)', fontsize = 12)\n",
    "        elif layerType == -1:\n",
    "            pyplot.text(x_text, self.y, 'Iutput Layer(each node from hidden layer has 3 weights)', fontsize = 12)\n",
    "        else:\n",
    "            pyplot.text(x_text, self.y, 'Hidden Layer '+str(layerType), fontsize = 12)\n",
    "\n",
    "class NeuralNetwork():\n",
    "    def __init__(self, number_of_neurons_in_widest_layer):\n",
    "        self.number_of_neurons_in_widest_layer = number_of_neurons_in_widest_layer\n",
    "        self.layers = []\n",
    "        self.layertype = 0\n",
    "\n",
    "    def add_layer(self, number_of_neurons ):\n",
    "        layer = Layer(self, number_of_neurons, self.number_of_neurons_in_widest_layer)\n",
    "        self.layers.append(layer)\n",
    "\n",
    "    def draw(self):\n",
    "        pyplot.figure()\n",
    "        for i in range( len(self.layers) ):\n",
    "            layer = self.layers[i]\n",
    "            if i == len(self.layers)-1:\n",
    "                i = -1\n",
    "            layer.draw( i )\n",
    "        pyplot.axis('scaled')\n",
    "        pyplot.axis('off')\n",
    "        pyplot.title( 'Neural Network architecture', fontsize=15 )\n",
    "        pyplot.show()\n",
    "\n",
    "class DrawNN():\n",
    "    def __init__( self, neural_network ):\n",
    "        self.neural_network = neural_network\n",
    "\n",
    "    def draw( self ):\n",
    "        widest_layer = max( self.neural_network )\n",
    "        network = NeuralNetwork( widest_layer )\n",
    "        for l in self.neural_network:\n",
    "            network.add_layer(l)\n",
    "        network.draw()"
   ]
  },
  {
   "cell_type": "code",
   "execution_count": 92,
   "metadata": {
    "collapsed": false
   },
   "outputs": [
    {
     "data": {
      "image/png": "[encoded data removed]",
      "text/plain": [
       "<matplotlib.figure.Figure at 0x1b2bc6d0940>"
      ]
     },
     "metadata": {},
     "output_type": "display_data"
    }
   ],
   "source": [
    "network = DrawNN( [8,3,8] )\n",
    "network.draw()"
   ]
  },
  {
   "cell_type": "code",
   "execution_count": 93,
   "metadata": {
    "collapsed": true
   },
   "outputs": [],
   "source": [
    "FeaVe=np.array([[1,0,0,0,0,0,0,0,1],\n",
    "                [0,1,0,0,0,0,0,0,1],\n",
    "                [0,0,1,0,0,0,0,0,1],\n",
    "                [0,0,0,1,0,0,0,0,1],\n",
    "                [0,0,0,0,1,0,0,0,1],\n",
    "                [0,0,0,0,0,1,0,0,1],\n",
    "                [0,0,0,0,0,0,1,0,1],\n",
    "                [0,0,0,0,0,0,0,1,1]])"
   ]
  },
  {
   "cell_type": "markdown",
   "metadata": {},
   "source": [
    "- result of hidden layer: MLPClassifier"
   ]
  },
  {
   "cell_type": "code",
   "execution_count": 94,
   "metadata": {
    "collapsed": false
   },
   "outputs": [],
   "source": [
    "w1=np.append(A1[0], B1[0])\n",
    "w1=w1.reshape(9,3)"
   ]
  },
  {
   "cell_type": "code",
   "execution_count": 95,
   "metadata": {
    "collapsed": false
   },
   "outputs": [
    {
     "data": {
      "text/plain": [
       "array([[-5.35433224, -3.72671533,  4.6763554 ,  0.29728732, -0.19308845,\n",
       "         3.88923964, -4.42514555,  5.41289033],\n",
       "       [ 3.93496994, -4.38819462, -4.43464396,  3.73870997,  4.28992451,\n",
       "        -4.13584732, -4.24351139,  3.68657548],\n",
       "       [ 0.26504679,  4.32137822,  3.59984251,  5.55984637, -5.33145119,\n",
       "        -4.39437014, -3.4689929 , -0.17208652]])"
      ]
     },
     "execution_count": 95,
     "metadata": {},
     "output_type": "execute_result"
    }
   ],
   "source": [
    "z_1 = np.dot(w1.T,FeaVe.T)\n",
    "z_1"
   ]
  },
  {
   "cell_type": "code",
   "execution_count": 96,
   "metadata": {
    "collapsed": false
   },
   "outputs": [],
   "source": [
    "import math as mth\n",
    "def sigmoid(z):\n",
    "    return float(1) / (1 + np.exp(-z))"
   ]
  },
  {
   "cell_type": "code",
   "execution_count": 97,
   "metadata": {
    "collapsed": false
   },
   "outputs": [
    {
     "data": {
      "text/plain": [
       "[array([ 0.00470538,  0.02350594,  0.99077304,  0.57377925,  0.45187731,\n",
       "         0.97994936,  0.01183082,  0.99556106]),\n",
       " array([ 0.98082845,  0.0122707 ,  0.01172029,  0.97676781,  0.98647935,\n",
       "         0.01573748,  0.01415388,  0.97555487]),\n",
       " array([ 0.5658765 ,  0.98689252,  0.97339893,  0.99616539,  0.00481376,\n",
       "         0.01219607,  0.03020747,  0.45708423])]"
      ]
     },
     "execution_count": 97,
     "metadata": {},
     "output_type": "execute_result"
    }
   ],
   "source": [
    "op_1=list(map(sigmoid,z_1))\n",
    "op_1"
   ]
  },
  {
   "cell_type": "code",
   "execution_count": 98,
   "metadata": {
    "collapsed": false
   },
   "outputs": [
    {
     "data": {
      "text/plain": [
       "array([[ 0.,  0.,  1.,  1.,  0.,  1.,  0.,  1.],\n",
       "       [ 1.,  0.,  0.,  1.,  1.,  0.,  0.,  1.],\n",
       "       [ 1.,  1.,  1.,  1.,  0.,  0.,  0.,  0.]])"
      ]
     },
     "execution_count": 98,
     "metadata": {},
     "output_type": "execute_result"
    }
   ],
   "source": [
    "np.around(op_1)"
   ]
  },
  {
   "cell_type": "markdown",
   "metadata": {},
   "source": [
    "- result of hidden layer: MLPRegressor"
   ]
  },
  {
   "cell_type": "code",
   "execution_count": 99,
   "metadata": {
    "collapsed": true
   },
   "outputs": [],
   "source": [
    "w2=np.append(A2[0], B2[0])\n",
    "w2=w2.reshape(9,3)"
   ]
  },
  {
   "cell_type": "code",
   "execution_count": 100,
   "metadata": {
    "collapsed": false
   },
   "outputs": [
    {
     "data": {
      "text/plain": [
       "array([[-0.84833317,  0.06174116, -0.98624502,  0.40952917, -0.2672757 ,\n",
       "        -0.22128768,  1.11412353,  0.92423514],\n",
       "       [ 0.12901294, -0.17582467,  1.17731508,  1.80930295, -0.12416511,\n",
       "         0.85608474,  2.3107775 , -0.41150895],\n",
       "       [-1.87884857, -0.78650784, -0.23150127, -1.4933795 ,  0.45677401,\n",
       "        -0.03886281,  0.01238569, -0.36759499]])"
      ]
     },
     "execution_count": 100,
     "metadata": {},
     "output_type": "execute_result"
    }
   ],
   "source": [
    "z_2 = np.dot(w2.T,FeaVe.T)\n",
    "z_2"
   ]
  },
  {
   "cell_type": "code",
   "execution_count": 101,
   "metadata": {
    "collapsed": false
   },
   "outputs": [
    {
     "data": {
      "text/plain": [
       "[array([ 0.29978263,  0.51543039,  0.27165439,  0.60097498,  0.43357603,\n",
       "         0.44490273,  0.75289707,  0.71590426]),\n",
       " array([ 0.53220857,  0.45615672,  0.7644647 ,  0.85927761,  0.46899854,\n",
       "         0.701842  ,  0.9097657 ,  0.39855036]),\n",
       " array([ 0.13252118,  0.312919  ,  0.44238178,  0.18341502,  0.6122486 ,\n",
       "         0.49028552,  0.50309638,  0.40912228])]"
      ]
     },
     "execution_count": 101,
     "metadata": {},
     "output_type": "execute_result"
    }
   ],
   "source": [
    "op_2=list(map(sigmoid,z_2))\n",
    "op_2"
   ]
  },
  {
   "cell_type": "code",
   "execution_count": 102,
   "metadata": {
    "collapsed": false
   },
   "outputs": [
    {
     "data": {
      "text/plain": [
       "array([[ 0.,  1.,  0.,  1.,  0.,  0.,  1.,  1.],\n",
       "       [ 1.,  0.,  1.,  1.,  0.,  1.,  1.,  0.],\n",
       "       [ 0.,  0.,  0.,  0.,  1.,  0.,  1.,  0.]])"
      ]
     },
     "execution_count": 102,
     "metadata": {},
     "output_type": "execute_result"
    }
   ],
   "source": [
    "np.around(op_2)"
   ]
  },
  {
   "cell_type": "markdown",
   "metadata": {
    "collapsed": true
   },
   "source": [
    "- Using neural network to fit Titanic dataset"
   ]
  },
  {
   "cell_type": "code",
   "execution_count": 103,
   "metadata": {
    "collapsed": false
   },
   "outputs": [
    {
     "data": {
      "text/html": [
       "<div>\n",
       "<table border=\"1\" class=\"dataframe\">\n",
       "  <thead>\n",
       "    <tr style=\"text-align: right;\">\n",
       "      <th></th>\n",
       "      <th>pclass</th>\n",
       "      <th>sex</th>\n",
       "      <th>age</th>\n",
       "      <th>sibsp</th>\n",
       "      <th>survived</th>\n",
       "    </tr>\n",
       "  </thead>\n",
       "  <tbody>\n",
       "    <tr>\n",
       "      <th>1</th>\n",
       "      <td>1st</td>\n",
       "      <td>female</td>\n",
       "      <td>29.0000</td>\n",
       "      <td>0</td>\n",
       "      <td>1</td>\n",
       "    </tr>\n",
       "    <tr>\n",
       "      <th>2</th>\n",
       "      <td>1st</td>\n",
       "      <td>male</td>\n",
       "      <td>0.9167</td>\n",
       "      <td>1</td>\n",
       "      <td>1</td>\n",
       "    </tr>\n",
       "    <tr>\n",
       "      <th>3</th>\n",
       "      <td>1st</td>\n",
       "      <td>female</td>\n",
       "      <td>2.0000</td>\n",
       "      <td>1</td>\n",
       "      <td>0</td>\n",
       "    </tr>\n",
       "    <tr>\n",
       "      <th>4</th>\n",
       "      <td>1st</td>\n",
       "      <td>male</td>\n",
       "      <td>30.0000</td>\n",
       "      <td>1</td>\n",
       "      <td>0</td>\n",
       "    </tr>\n",
       "    <tr>\n",
       "      <th>5</th>\n",
       "      <td>1st</td>\n",
       "      <td>female</td>\n",
       "      <td>25.0000</td>\n",
       "      <td>1</td>\n",
       "      <td>0</td>\n",
       "    </tr>\n",
       "  </tbody>\n",
       "</table>\n",
       "</div>"
      ],
      "text/plain": [
       "  pclass     sex      age  sibsp  survived\n",
       "1    1st  female  29.0000      0         1\n",
       "2    1st    male   0.9167      1         1\n",
       "3    1st  female   2.0000      1         0\n",
       "4    1st    male  30.0000      1         0\n",
       "5    1st  female  25.0000      1         0"
      ]
     },
     "execution_count": 103,
     "metadata": {},
     "output_type": "execute_result"
    }
   ],
   "source": [
    "titanic = pd.read_csv('C://Users//amyhu//Google Drive//CPE 695//week5//Titanic.csv', index_col=0)\n",
    "titanic = titanic.loc[:,['pclass','sex','age','sibsp','survived']]\n",
    "titanic.head()"
   ]
  },
  {
   "cell_type": "code",
   "execution_count": 104,
   "metadata": {
    "collapsed": false
   },
   "outputs": [
    {
     "data": {
      "text/plain": [
       "pclass        0\n",
       "sex           0\n",
       "age         263\n",
       "sibsp         0\n",
       "survived      0\n",
       "dtype: int64"
      ]
     },
     "execution_count": 104,
     "metadata": {},
     "output_type": "execute_result"
    }
   ],
   "source": [
    "titanic.isnull().sum()"
   ]
  },
  {
   "cell_type": "code",
   "execution_count": 105,
   "metadata": {
    "collapsed": false
   },
   "outputs": [
    {
     "data": {
      "text/html": [
       "<div>\n",
       "<table border=\"1\" class=\"dataframe\">\n",
       "  <thead>\n",
       "    <tr style=\"text-align: right;\">\n",
       "      <th></th>\n",
       "      <th>pclass</th>\n",
       "      <th>sex</th>\n",
       "      <th>age</th>\n",
       "      <th>sibsp</th>\n",
       "      <th>survived</th>\n",
       "    </tr>\n",
       "  </thead>\n",
       "  <tbody>\n",
       "    <tr>\n",
       "      <th>1</th>\n",
       "      <td>1st</td>\n",
       "      <td>female</td>\n",
       "      <td>29.0000</td>\n",
       "      <td>0</td>\n",
       "      <td>1</td>\n",
       "    </tr>\n",
       "    <tr>\n",
       "      <th>2</th>\n",
       "      <td>1st</td>\n",
       "      <td>male</td>\n",
       "      <td>0.9167</td>\n",
       "      <td>1</td>\n",
       "      <td>1</td>\n",
       "    </tr>\n",
       "    <tr>\n",
       "      <th>3</th>\n",
       "      <td>1st</td>\n",
       "      <td>female</td>\n",
       "      <td>2.0000</td>\n",
       "      <td>1</td>\n",
       "      <td>0</td>\n",
       "    </tr>\n",
       "    <tr>\n",
       "      <th>4</th>\n",
       "      <td>1st</td>\n",
       "      <td>male</td>\n",
       "      <td>30.0000</td>\n",
       "      <td>1</td>\n",
       "      <td>0</td>\n",
       "    </tr>\n",
       "    <tr>\n",
       "      <th>5</th>\n",
       "      <td>1st</td>\n",
       "      <td>female</td>\n",
       "      <td>25.0000</td>\n",
       "      <td>1</td>\n",
       "      <td>0</td>\n",
       "    </tr>\n",
       "  </tbody>\n",
       "</table>\n",
       "</div>"
      ],
      "text/plain": [
       "  pclass     sex      age  sibsp  survived\n",
       "1    1st  female  29.0000      0         1\n",
       "2    1st    male   0.9167      1         1\n",
       "3    1st  female   2.0000      1         0\n",
       "4    1st    male  30.0000      1         0\n",
       "5    1st  female  25.0000      1         0"
      ]
     },
     "execution_count": 105,
     "metadata": {},
     "output_type": "execute_result"
    }
   ],
   "source": [
    "titanic['age']=titanic['age'].fillna(titanic['age'].median()) # fill the NA value with median number\n",
    "titanic.head()"
   ]
  },
  {
   "cell_type": "code",
   "execution_count": 106,
   "metadata": {
    "collapsed": false
   },
   "outputs": [
    {
     "data": {
      "text/html": [
       "<div>\n",
       "<table border=\"1\" class=\"dataframe\">\n",
       "  <thead>\n",
       "    <tr style=\"text-align: right;\">\n",
       "      <th></th>\n",
       "      <th>pclass</th>\n",
       "      <th>sex</th>\n",
       "      <th>age</th>\n",
       "      <th>sibsp</th>\n",
       "      <th>survived</th>\n",
       "    </tr>\n",
       "  </thead>\n",
       "  <tbody>\n",
       "    <tr>\n",
       "      <th>1</th>\n",
       "      <td>0</td>\n",
       "      <td>0</td>\n",
       "      <td>29.0000</td>\n",
       "      <td>0</td>\n",
       "      <td>1</td>\n",
       "    </tr>\n",
       "    <tr>\n",
       "      <th>2</th>\n",
       "      <td>0</td>\n",
       "      <td>1</td>\n",
       "      <td>0.9167</td>\n",
       "      <td>1</td>\n",
       "      <td>1</td>\n",
       "    </tr>\n",
       "    <tr>\n",
       "      <th>3</th>\n",
       "      <td>0</td>\n",
       "      <td>0</td>\n",
       "      <td>2.0000</td>\n",
       "      <td>1</td>\n",
       "      <td>0</td>\n",
       "    </tr>\n",
       "    <tr>\n",
       "      <th>4</th>\n",
       "      <td>0</td>\n",
       "      <td>1</td>\n",
       "      <td>30.0000</td>\n",
       "      <td>1</td>\n",
       "      <td>0</td>\n",
       "    </tr>\n",
       "    <tr>\n",
       "      <th>5</th>\n",
       "      <td>0</td>\n",
       "      <td>0</td>\n",
       "      <td>25.0000</td>\n",
       "      <td>1</td>\n",
       "      <td>0</td>\n",
       "    </tr>\n",
       "  </tbody>\n",
       "</table>\n",
       "</div>"
      ],
      "text/plain": [
       "   pclass  sex      age  sibsp  survived\n",
       "1       0    0  29.0000      0         1\n",
       "2       0    1   0.9167      1         1\n",
       "3       0    0   2.0000      1         0\n",
       "4       0    1  30.0000      1         0\n",
       "5       0    0  25.0000      1         0"
      ]
     },
     "execution_count": 106,
     "metadata": {},
     "output_type": "execute_result"
    }
   ],
   "source": [
    "from sklearn import preprocessing\n",
    "label_encoder = preprocessing.LabelEncoder()\n",
    "titanic['sex'] = label_encoder.fit_transform(titanic['sex'])\n",
    "titanic['pclass'] = label_encoder.fit_transform(titanic['pclass'])\n",
    "titanic.head()"
   ]
  },
  {
   "cell_type": "code",
   "execution_count": 107,
   "metadata": {
    "collapsed": true
   },
   "outputs": [],
   "source": [
    "from sklearn.model_selection import train_test_split\n",
    "train, test = train_test_split(titanic, train_size = 0.6) #split the dataset into train and test"
   ]
  },
  {
   "cell_type": "code",
   "execution_count": 108,
   "metadata": {
    "collapsed": false
   },
   "outputs": [
    {
     "data": {
      "text/html": [
       "<div>\n",
       "<table border=\"1\" class=\"dataframe\">\n",
       "  <thead>\n",
       "    <tr style=\"text-align: right;\">\n",
       "      <th></th>\n",
       "      <th>pclass</th>\n",
       "      <th>sex</th>\n",
       "      <th>age</th>\n",
       "      <th>sibsp</th>\n",
       "    </tr>\n",
       "  </thead>\n",
       "  <tbody>\n",
       "    <tr>\n",
       "      <th>801</th>\n",
       "      <td>2</td>\n",
       "      <td>0</td>\n",
       "      <td>28.0</td>\n",
       "      <td>0</td>\n",
       "    </tr>\n",
       "    <tr>\n",
       "      <th>1234</th>\n",
       "      <td>2</td>\n",
       "      <td>1</td>\n",
       "      <td>44.0</td>\n",
       "      <td>0</td>\n",
       "    </tr>\n",
       "    <tr>\n",
       "      <th>1198</th>\n",
       "      <td>2</td>\n",
       "      <td>1</td>\n",
       "      <td>28.0</td>\n",
       "      <td>0</td>\n",
       "    </tr>\n",
       "    <tr>\n",
       "      <th>770</th>\n",
       "      <td>2</td>\n",
       "      <td>1</td>\n",
       "      <td>22.0</td>\n",
       "      <td>0</td>\n",
       "    </tr>\n",
       "    <tr>\n",
       "      <th>419</th>\n",
       "      <td>1</td>\n",
       "      <td>1</td>\n",
       "      <td>47.0</td>\n",
       "      <td>0</td>\n",
       "    </tr>\n",
       "  </tbody>\n",
       "</table>\n",
       "</div>"
      ],
      "text/plain": [
       "      pclass  sex   age  sibsp\n",
       "801        2    0  28.0      0\n",
       "1234       2    1  44.0      0\n",
       "1198       2    1  28.0      0\n",
       "770        2    1  22.0      0\n",
       "419        1    1  47.0      0"
      ]
     },
     "execution_count": 108,
     "metadata": {},
     "output_type": "execute_result"
    }
   ],
   "source": [
    "variables_trn = train.loc[:,['pclass','sex','age','sibsp']]\n",
    "variables_trn.head()"
   ]
  },
  {
   "cell_type": "code",
   "execution_count": 109,
   "metadata": {
    "collapsed": true
   },
   "outputs": [],
   "source": [
    "Classifier_model=clf_1.fit(X = variables_trn, \n",
    "               y = train[\"survived\"])"
   ]
  },
  {
   "cell_type": "code",
   "execution_count": 110,
   "metadata": {
    "collapsed": true
   },
   "outputs": [],
   "source": [
    "trn_predict = clf_1.predict(variables_trn)"
   ]
  },
  {
   "cell_type": "code",
   "execution_count": 111,
   "metadata": {
    "collapsed": true
   },
   "outputs": [],
   "source": [
    "def perf_stats(labels, predict):\n",
    "    P = np.count_nonzero(labels == 1)\n",
    "    N = np.count_nonzero(labels == 0)\n",
    "    TP = np.count_nonzero((predict == 1) & (labels == 1))\n",
    "    FP = np.count_nonzero((predict == 1) & (labels == 0))\n",
    "    TN = np.count_nonzero((predict == 0) & (labels == 0))\n",
    "    FN = np.count_nonzero((predict == 0) & (labels == 1))\n",
    "    P_rate=TP/P\n",
    "    N_rate=TN/N\n",
    "    return pd.DataFrame({\"1.survivors\":[P], \n",
    "                         \"2.fatalities\":[N], \n",
    "                         \"3.true-predicted survivors\":[TP],\n",
    "                         \"4.fales-predicted survivors\":[FP],\n",
    "                         \"5.true-predicted fatalities\":[TN],\n",
    "                         \"6.false-predicted fatalities\":[FN],\n",
    "                         \"7.% survivors correctly predicted\": [P_rate],\n",
    "                         \"8.% fatalities correctly predicted\":[N_rate]})"
   ]
  },
  {
   "cell_type": "code",
   "execution_count": 112,
   "metadata": {
    "collapsed": false
   },
   "outputs": [
    {
     "data": {
      "text/html": [
       "<div>\n",
       "<table border=\"1\" class=\"dataframe\">\n",
       "  <thead>\n",
       "    <tr style=\"text-align: right;\">\n",
       "      <th></th>\n",
       "      <th>1.survivors</th>\n",
       "      <th>2.fatalities</th>\n",
       "      <th>3.true-predicted survivors</th>\n",
       "      <th>4.fales-predicted survivors</th>\n",
       "      <th>5.true-predicted fatalities</th>\n",
       "      <th>6.false-predicted fatalities</th>\n",
       "      <th>7.% survivors correctly predicted</th>\n",
       "      <th>8.% fatalities correctly predicted</th>\n",
       "    </tr>\n",
       "  </thead>\n",
       "  <tbody>\n",
       "    <tr>\n",
       "      <th>0</th>\n",
       "      <td>288</td>\n",
       "      <td>497</td>\n",
       "      <td>176</td>\n",
       "      <td>22</td>\n",
       "      <td>475</td>\n",
       "      <td>112</td>\n",
       "      <td>0.611111</td>\n",
       "      <td>0.955734</td>\n",
       "    </tr>\n",
       "  </tbody>\n",
       "</table>\n",
       "</div>"
      ],
      "text/plain": [
       "   1.survivors  2.fatalities  3.true-predicted survivors  \\\n",
       "0          288           497                         176   \n",
       "\n",
       "   4.fales-predicted survivors  5.true-predicted fatalities  \\\n",
       "0                           22                          475   \n",
       "\n",
       "   6.false-predicted fatalities  7.% survivors correctly predicted  \\\n",
       "0                           112                           0.611111   \n",
       "\n",
       "   8.% fatalities correctly predicted  \n",
       "0                            0.955734  "
      ]
     },
     "execution_count": 112,
     "metadata": {},
     "output_type": "execute_result"
    }
   ],
   "source": [
    "perf_stats(train[\"survived\"],trn_predict)"
   ]
  },
  {
   "cell_type": "code",
   "execution_count": 113,
   "metadata": {
    "collapsed": true
   },
   "outputs": [],
   "source": [
    "variables_tst = test.loc[:,['pclass','sex','age','sibsp']]\n",
    "tst_predict = clf_1.predict(variables_tst)"
   ]
  },
  {
   "cell_type": "code",
   "execution_count": 114,
   "metadata": {
    "collapsed": false
   },
   "outputs": [
    {
     "data": {
      "text/html": [
       "<div>\n",
       "<table border=\"1\" class=\"dataframe\">\n",
       "  <thead>\n",
       "    <tr style=\"text-align: right;\">\n",
       "      <th></th>\n",
       "      <th>1.survivors</th>\n",
       "      <th>2.fatalities</th>\n",
       "      <th>3.true-predicted survivors</th>\n",
       "      <th>4.fales-predicted survivors</th>\n",
       "      <th>5.true-predicted fatalities</th>\n",
       "      <th>6.false-predicted fatalities</th>\n",
       "      <th>7.% survivors correctly predicted</th>\n",
       "      <th>8.% fatalities correctly predicted</th>\n",
       "    </tr>\n",
       "  </thead>\n",
       "  <tbody>\n",
       "    <tr>\n",
       "      <th>0</th>\n",
       "      <td>212</td>\n",
       "      <td>312</td>\n",
       "      <td>123</td>\n",
       "      <td>28</td>\n",
       "      <td>284</td>\n",
       "      <td>89</td>\n",
       "      <td>0.580189</td>\n",
       "      <td>0.910256</td>\n",
       "    </tr>\n",
       "  </tbody>\n",
       "</table>\n",
       "</div>"
      ],
      "text/plain": [
       "   1.survivors  2.fatalities  3.true-predicted survivors  \\\n",
       "0          212           312                         123   \n",
       "\n",
       "   4.fales-predicted survivors  5.true-predicted fatalities  \\\n",
       "0                           28                          284   \n",
       "\n",
       "   6.false-predicted fatalities  7.% survivors correctly predicted  \\\n",
       "0                            89                           0.580189   \n",
       "\n",
       "   8.% fatalities correctly predicted  \n",
       "0                            0.910256  "
      ]
     },
     "execution_count": 114,
     "metadata": {},
     "output_type": "execute_result"
    }
   ],
   "source": [
    "perf_stats(test[\"survived\"],tst_predict)"
   ]
  },
  {
   "cell_type": "code",
   "execution_count": null,
   "metadata": {
    "collapsed": true
   },
   "outputs": [],
   "source": []
  }
 ],
 "metadata": {
  "kernelspec": {
   "display_name": "Python 3",
   "language": "python",
   "name": "python3"
  },
  "language_info": {
   "codemirror_mode": {
    "name": "ipython",
    "version": 3
   },
   "file_extension": ".py",
   "mimetype": "text/x-python",
   "name": "python",
   "nbconvert_exporter": "python",
   "pygments_lexer": "ipython3",
   "version": "3.6.0"
  }
 },
 "nbformat": 4,
 "nbformat_minor": 0
}
